{
 "cells": [
  {
   "cell_type": "markdown",
   "id": "502b26dd",
   "metadata": {},
   "source": [
    "# ¿Es realmente el chicharrón bueno para la salud? Modelos de ML y redes neuronales para detectar noticias falsas en el contexto colombiano. Pt 2."
   ]
  },
  {
   "cell_type": "markdown",
   "id": "ae103d2e",
   "metadata": {},
   "source": [
    "# Índice\n",
    "\n",
    "1. Importación de librerías\n",
    "2. Importación de los datasets y creación de los conjuntos de entrenamiento, test y validación\n",
    "3. Importación del modelo BERT en español, tokenización y construcción de tensores y dataloaders\n",
    "4. Arquitectura de la red neuronal\n",
    "5. Creación de funciónes de entrenamiento y de evaluación \n",
    "6. Visualización de los resultados\n",
    "7. Evaluación del modelo \n",
    "8. Evaluación del mejor modelo con noticias nuevas\n",
    "9. Conclusiones\n",
    " \n",
    " Nota"
   ]
  },
  {
   "cell_type": "markdown",
   "id": "c57f9aef",
   "metadata": {},
   "source": [
    "# 1. Importación de librerías"
   ]
  },
  {
   "cell_type": "code",
   "execution_count": 92,
   "id": "1f747c38",
   "metadata": {
    "scrolled": true
   },
   "outputs": [
    {
     "name": "stdout",
     "output_type": "stream",
     "text": [
      "huggingface/tokenizers: The current process just got forked, after parallelism has already been used. Disabling parallelism to avoid deadlocks...\n",
      "To disable this warning, you can either:\n",
      "\t- Avoid using `tokenizers` before the fork if possible\n",
      "\t- Explicitly set the environment variable TOKENIZERS_PARALLELISM=(true | false)\n",
      "Requirement already satisfied: transformers in /Users/juanviatela/anaconda3/lib/python3.10/site-packages (4.24.0)\n",
      "Requirement already satisfied: regex!=2019.12.17 in /Users/juanviatela/anaconda3/lib/python3.10/site-packages (from transformers) (2022.7.9)\n",
      "Requirement already satisfied: tokenizers!=0.11.3,<0.14,>=0.11.1 in /Users/juanviatela/anaconda3/lib/python3.10/site-packages (from transformers) (0.11.4)\n",
      "Requirement already satisfied: numpy>=1.17 in /Users/juanviatela/anaconda3/lib/python3.10/site-packages (from transformers) (1.23.5)\n",
      "Requirement already satisfied: pyyaml>=5.1 in /Users/juanviatela/anaconda3/lib/python3.10/site-packages (from transformers) (6.0)\n",
      "Requirement already satisfied: packaging>=20.0 in /Users/juanviatela/anaconda3/lib/python3.10/site-packages (from transformers) (22.0)\n",
      "Requirement already satisfied: filelock in /Users/juanviatela/anaconda3/lib/python3.10/site-packages (from transformers) (3.9.0)\n",
      "Requirement already satisfied: huggingface-hub<1.0,>=0.10.0 in /Users/juanviatela/anaconda3/lib/python3.10/site-packages (from transformers) (0.10.1)\n",
      "Requirement already satisfied: requests in /Users/juanviatela/anaconda3/lib/python3.10/site-packages (from transformers) (2.28.1)\n",
      "Requirement already satisfied: tqdm>=4.27 in /Users/juanviatela/anaconda3/lib/python3.10/site-packages (from transformers) (4.64.1)\n",
      "Requirement already satisfied: typing-extensions>=3.7.4.3 in /Users/juanviatela/anaconda3/lib/python3.10/site-packages (from huggingface-hub<1.0,>=0.10.0->transformers) (4.9.0)\n",
      "Requirement already satisfied: certifi>=2017.4.17 in /Users/juanviatela/anaconda3/lib/python3.10/site-packages (from requests->transformers) (2023.11.17)\n",
      "Requirement already satisfied: urllib3<1.27,>=1.21.1 in /Users/juanviatela/anaconda3/lib/python3.10/site-packages (from requests->transformers) (1.26.14)\n",
      "Requirement already satisfied: idna<4,>=2.5 in /Users/juanviatela/anaconda3/lib/python3.10/site-packages (from requests->transformers) (3.4)\n",
      "Requirement already satisfied: charset-normalizer<3,>=2 in /Users/juanviatela/anaconda3/lib/python3.10/site-packages (from requests->transformers) (2.0.4)\n",
      "huggingface/tokenizers: The current process just got forked, after parallelism has already been used. Disabling parallelism to avoid deadlocks...\n",
      "To disable this warning, you can either:\n",
      "\t- Avoid using `tokenizers` before the fork if possible\n",
      "\t- Explicitly set the environment variable TOKENIZERS_PARALLELISM=(true | false)\n",
      "Requirement already satisfied: pycaret in /Users/juanviatela/anaconda3/lib/python3.10/site-packages (3.2.0)\n",
      "Requirement already satisfied: importlib-metadata>=4.12.0 in /Users/juanviatela/anaconda3/lib/python3.10/site-packages (from pycaret) (7.0.1)\n",
      "Requirement already satisfied: joblib>=1.2.0 in /Users/juanviatela/anaconda3/lib/python3.10/site-packages (from pycaret) (1.3.2)\n",
      "Requirement already satisfied: category-encoders>=2.4.0 in /Users/juanviatela/anaconda3/lib/python3.10/site-packages (from pycaret) (2.6.3)\n",
      "Requirement already satisfied: nbformat>=4.2.0 in /Users/juanviatela/anaconda3/lib/python3.10/site-packages (from pycaret) (5.7.0)\n",
      "Requirement already satisfied: tbats>=1.1.3 in /Users/juanviatela/anaconda3/lib/python3.10/site-packages (from pycaret) (1.1.3)\n",
      "Requirement already satisfied: psutil>=5.9.0 in /Users/juanviatela/anaconda3/lib/python3.10/site-packages (from pycaret) (5.9.0)\n",
      "Requirement already satisfied: markupsafe>=2.0.1 in /Users/juanviatela/anaconda3/lib/python3.10/site-packages (from pycaret) (2.1.1)\n",
      "Requirement already satisfied: statsmodels>=0.12.1 in /Users/juanviatela/anaconda3/lib/python3.10/site-packages (from pycaret) (0.13.5)\n",
      "Requirement already satisfied: pandas<2.0.0,>=1.3.0 in /Users/juanviatela/anaconda3/lib/python3.10/site-packages (from pycaret) (1.5.3)\n",
      "Requirement already satisfied: plotly>=5.0.0 in /Users/juanviatela/anaconda3/lib/python3.10/site-packages (from pycaret) (5.9.0)\n",
      "Requirement already satisfied: numba>=0.55.0 in /Users/juanviatela/anaconda3/lib/python3.10/site-packages (from pycaret) (0.56.4)\n",
      "Requirement already satisfied: yellowbrick>=1.4 in /Users/juanviatela/anaconda3/lib/python3.10/site-packages (from pycaret) (1.5)\n",
      "Requirement already satisfied: requests>=2.27.1 in /Users/juanviatela/anaconda3/lib/python3.10/site-packages (from pycaret) (2.28.1)\n",
      "Requirement already satisfied: numpy<1.27,>=1.21 in /Users/juanviatela/anaconda3/lib/python3.10/site-packages (from pycaret) (1.23.5)\n",
      "Requirement already satisfied: xxhash in /Users/juanviatela/anaconda3/lib/python3.10/site-packages (from pycaret) (3.4.1)\n",
      "Requirement already satisfied: scikit-learn<1.3.0,>=1.0 in /Users/juanviatela/anaconda3/lib/python3.10/site-packages (from pycaret) (1.2.1)\n",
      "Requirement already satisfied: imbalanced-learn>=0.8.1 in /Users/juanviatela/anaconda3/lib/python3.10/site-packages (from pycaret) (0.10.1)\n",
      "Requirement already satisfied: plotly-resampler>=0.8.3.1 in /Users/juanviatela/anaconda3/lib/python3.10/site-packages (from pycaret) (0.9.2)\n",
      "Requirement already satisfied: ipython>=5.5.0 in /Users/juanviatela/anaconda3/lib/python3.10/site-packages (from pycaret) (8.10.0)\n",
      "Requirement already satisfied: kaleido>=0.2.1 in /Users/juanviatela/anaconda3/lib/python3.10/site-packages (from pycaret) (0.2.1)\n",
      "Requirement already satisfied: tqdm>=4.62.0 in /Users/juanviatela/anaconda3/lib/python3.10/site-packages (from pycaret) (4.64.1)\n",
      "Requirement already satisfied: ipywidgets>=7.6.5 in /Users/juanviatela/anaconda3/lib/python3.10/site-packages (from pycaret) (7.6.5)\n",
      "Requirement already satisfied: schemdraw==0.15 in /Users/juanviatela/anaconda3/lib/python3.10/site-packages (from pycaret) (0.15)\n",
      "Requirement already satisfied: cloudpickle in /Users/juanviatela/anaconda3/lib/python3.10/site-packages (from pycaret) (2.0.0)\n",
      "Requirement already satisfied: scipy~=1.10.1 in /Users/juanviatela/anaconda3/lib/python3.10/site-packages (from pycaret) (1.10.1)\n",
      "Requirement already satisfied: pmdarima!=1.8.1,<3.0.0,>=1.8.0 in /Users/juanviatela/anaconda3/lib/python3.10/site-packages (from pycaret) (2.0.4)\n",
      "Requirement already satisfied: jinja2>=1.2 in /Users/juanviatela/anaconda3/lib/python3.10/site-packages (from pycaret) (3.1.2)\n",
      "Requirement already satisfied: lightgbm>=3.0.0 in /Users/juanviatela/anaconda3/lib/python3.10/site-packages (from pycaret) (4.3.0)\n",
      "Requirement already satisfied: scikit-plot>=0.3.7 in /Users/juanviatela/anaconda3/lib/python3.10/site-packages (from pycaret) (0.3.7)\n",
      "Requirement already satisfied: deprecation>=2.1.0 in /Users/juanviatela/anaconda3/lib/python3.10/site-packages (from pycaret) (2.1.0)\n",
      "Requirement already satisfied: matplotlib<=3.6,>=3.3.0 in /Users/juanviatela/anaconda3/lib/python3.10/site-packages (from pycaret) (3.6.0)\n",
      "Requirement already satisfied: sktime!=0.17.1,!=0.17.2,!=0.18.0,<0.22.0,>=0.16.1 in /Users/juanviatela/anaconda3/lib/python3.10/site-packages (from pycaret) (0.21.1)\n",
      "Requirement already satisfied: wurlitzer in /Users/juanviatela/anaconda3/lib/python3.10/site-packages (from pycaret) (3.0.2)\n",
      "Requirement already satisfied: pyod>=1.0.8 in /Users/juanviatela/anaconda3/lib/python3.10/site-packages (from pycaret) (1.1.2)\n",
      "Requirement already satisfied: patsy>=0.5.1 in /Users/juanviatela/anaconda3/lib/python3.10/site-packages (from category-encoders>=2.4.0->pycaret) (0.5.3)\n",
      "Requirement already satisfied: packaging in /Users/juanviatela/anaconda3/lib/python3.10/site-packages (from deprecation>=2.1.0->pycaret) (22.0)\n",
      "Requirement already satisfied: threadpoolctl>=2.0.0 in /Users/juanviatela/anaconda3/lib/python3.10/site-packages (from imbalanced-learn>=0.8.1->pycaret) (2.2.0)\n",
      "Requirement already satisfied: zipp>=0.5 in /Users/juanviatela/anaconda3/lib/python3.10/site-packages (from importlib-metadata>=4.12.0->pycaret) (3.11.0)\n",
      "Requirement already satisfied: jedi>=0.16 in /Users/juanviatela/anaconda3/lib/python3.10/site-packages (from ipython>=5.5.0->pycaret) (0.18.1)\n",
      "Requirement already satisfied: backcall in /Users/juanviatela/anaconda3/lib/python3.10/site-packages (from ipython>=5.5.0->pycaret) (0.2.0)\n",
      "Requirement already satisfied: prompt-toolkit<3.1.0,>=3.0.30 in /Users/juanviatela/anaconda3/lib/python3.10/site-packages (from ipython>=5.5.0->pycaret) (3.0.36)\n",
      "Requirement already satisfied: appnope in /Users/juanviatela/anaconda3/lib/python3.10/site-packages (from ipython>=5.5.0->pycaret) (0.1.2)\n",
      "Requirement already satisfied: decorator in /Users/juanviatela/anaconda3/lib/python3.10/site-packages (from ipython>=5.5.0->pycaret) (5.1.1)\n",
      "Requirement already satisfied: pickleshare in /Users/juanviatela/anaconda3/lib/python3.10/site-packages (from ipython>=5.5.0->pycaret) (0.7.5)\n",
      "Requirement already satisfied: stack-data in /Users/juanviatela/anaconda3/lib/python3.10/site-packages (from ipython>=5.5.0->pycaret) (0.2.0)\n",
      "Requirement already satisfied: pexpect>4.3 in /Users/juanviatela/anaconda3/lib/python3.10/site-packages (from ipython>=5.5.0->pycaret) (4.8.0)\n",
      "Requirement already satisfied: traitlets>=5 in /Users/juanviatela/anaconda3/lib/python3.10/site-packages (from ipython>=5.5.0->pycaret) (5.7.1)\n",
      "Requirement already satisfied: pygments>=2.4.0 in /Users/juanviatela/anaconda3/lib/python3.10/site-packages (from ipython>=5.5.0->pycaret) (2.11.2)\n",
      "Requirement already satisfied: matplotlib-inline in /Users/juanviatela/anaconda3/lib/python3.10/site-packages (from ipython>=5.5.0->pycaret) (0.1.6)\n",
      "Requirement already satisfied: jupyterlab-widgets>=1.0.0 in /Users/juanviatela/anaconda3/lib/python3.10/site-packages (from ipywidgets>=7.6.5->pycaret) (1.0.0)\n",
      "Requirement already satisfied: ipykernel>=4.5.1 in /Users/juanviatela/anaconda3/lib/python3.10/site-packages (from ipywidgets>=7.6.5->pycaret) (6.19.2)\n",
      "Requirement already satisfied: ipython-genutils~=0.2.0 in /Users/juanviatela/anaconda3/lib/python3.10/site-packages (from ipywidgets>=7.6.5->pycaret) (0.2.0)\n",
      "Requirement already satisfied: widgetsnbextension~=3.5.0 in /Users/juanviatela/anaconda3/lib/python3.10/site-packages (from ipywidgets>=7.6.5->pycaret) (3.5.2)\n"
     ]
    },
    {
     "name": "stdout",
     "output_type": "stream",
     "text": [
      "Requirement already satisfied: python-dateutil>=2.7 in /Users/juanviatela/anaconda3/lib/python3.10/site-packages (from matplotlib<=3.6,>=3.3.0->pycaret) (2.8.2)\n",
      "Requirement already satisfied: cycler>=0.10 in /Users/juanviatela/anaconda3/lib/python3.10/site-packages (from matplotlib<=3.6,>=3.3.0->pycaret) (0.11.0)\n",
      "Requirement already satisfied: kiwisolver>=1.0.1 in /Users/juanviatela/anaconda3/lib/python3.10/site-packages (from matplotlib<=3.6,>=3.3.0->pycaret) (1.4.4)\n",
      "Requirement already satisfied: fonttools>=4.22.0 in /Users/juanviatela/anaconda3/lib/python3.10/site-packages (from matplotlib<=3.6,>=3.3.0->pycaret) (4.25.0)\n",
      "Requirement already satisfied: pyparsing>=2.2.1 in /Users/juanviatela/anaconda3/lib/python3.10/site-packages (from matplotlib<=3.6,>=3.3.0->pycaret) (3.0.9)\n",
      "Requirement already satisfied: contourpy>=1.0.1 in /Users/juanviatela/anaconda3/lib/python3.10/site-packages (from matplotlib<=3.6,>=3.3.0->pycaret) (1.0.5)\n",
      "Requirement already satisfied: pillow>=6.2.0 in /Users/juanviatela/anaconda3/lib/python3.10/site-packages (from matplotlib<=3.6,>=3.3.0->pycaret) (9.4.0)\n",
      "Requirement already satisfied: jupyter-core in /Users/juanviatela/anaconda3/lib/python3.10/site-packages (from nbformat>=4.2.0->pycaret) (5.2.0)\n",
      "Requirement already satisfied: jsonschema>=2.6 in /Users/juanviatela/anaconda3/lib/python3.10/site-packages (from nbformat>=4.2.0->pycaret) (4.17.3)\n",
      "Requirement already satisfied: fastjsonschema in /Users/juanviatela/anaconda3/lib/python3.10/site-packages (from nbformat>=4.2.0->pycaret) (2.16.2)\n",
      "Requirement already satisfied: llvmlite<0.40,>=0.39.0dev0 in /Users/juanviatela/anaconda3/lib/python3.10/site-packages (from numba>=0.55.0->pycaret) (0.39.1)\n",
      "Requirement already satisfied: setuptools in /Users/juanviatela/anaconda3/lib/python3.10/site-packages (from numba>=0.55.0->pycaret) (65.6.3)\n",
      "Requirement already satisfied: pytz>=2020.1 in /Users/juanviatela/anaconda3/lib/python3.10/site-packages (from pandas<2.0.0,>=1.3.0->pycaret) (2022.7)\n",
      "Requirement already satisfied: tenacity>=6.2.0 in /Users/juanviatela/anaconda3/lib/python3.10/site-packages (from plotly>=5.0.0->pycaret) (8.0.1)\n",
      "Requirement already satisfied: dash>=2.9.0 in /Users/juanviatela/anaconda3/lib/python3.10/site-packages (from plotly-resampler>=0.8.3.1->pycaret) (2.15.0)\n",
      "Requirement already satisfied: orjson<4.0.0,>=3.8.0 in /Users/juanviatela/anaconda3/lib/python3.10/site-packages (from plotly-resampler>=0.8.3.1->pycaret) (3.9.13)\n",
      "Requirement already satisfied: tsdownsample==0.1.2 in /Users/juanviatela/anaconda3/lib/python3.10/site-packages (from plotly-resampler>=0.8.3.1->pycaret) (0.1.2)\n",
      "Requirement already satisfied: urllib3 in /Users/juanviatela/anaconda3/lib/python3.10/site-packages (from pmdarima!=1.8.1,<3.0.0,>=1.8.0->pycaret) (1.26.14)\n",
      "Requirement already satisfied: Cython!=0.29.18,!=0.29.31,>=0.29 in /Users/juanviatela/anaconda3/lib/python3.10/site-packages (from pmdarima!=1.8.1,<3.0.0,>=1.8.0->pycaret) (3.0.8)\n",
      "Requirement already satisfied: six in /Users/juanviatela/anaconda3/lib/python3.10/site-packages (from pyod>=1.0.8->pycaret) (1.16.0)\n",
      "Requirement already satisfied: charset-normalizer<3,>=2 in /Users/juanviatela/anaconda3/lib/python3.10/site-packages (from requests>=2.27.1->pycaret) (2.0.4)\n",
      "Requirement already satisfied: certifi>=2017.4.17 in /Users/juanviatela/anaconda3/lib/python3.10/site-packages (from requests>=2.27.1->pycaret) (2023.11.17)\n",
      "Requirement already satisfied: idna<4,>=2.5 in /Users/juanviatela/anaconda3/lib/python3.10/site-packages (from requests>=2.27.1->pycaret) (3.4)\n",
      "Requirement already satisfied: scikit-base<0.6.0 in /Users/juanviatela/anaconda3/lib/python3.10/site-packages (from sktime!=0.17.1,!=0.17.2,!=0.18.0,<0.22.0,>=0.16.1->pycaret) (0.5.2)\n",
      "Requirement already satisfied: deprecated>=1.2.13 in /Users/juanviatela/anaconda3/lib/python3.10/site-packages (from sktime!=0.17.1,!=0.17.2,!=0.18.0,<0.22.0,>=0.16.1->pycaret) (1.2.14)\n",
      "Requirement already satisfied: dash-html-components==2.0.0 in /Users/juanviatela/anaconda3/lib/python3.10/site-packages (from dash>=2.9.0->plotly-resampler>=0.8.3.1->pycaret) (2.0.0)\n",
      "Requirement already satisfied: Werkzeug<3.1 in /Users/juanviatela/anaconda3/lib/python3.10/site-packages (from dash>=2.9.0->plotly-resampler>=0.8.3.1->pycaret) (2.2.2)\n",
      "Requirement already satisfied: retrying in /Users/juanviatela/anaconda3/lib/python3.10/site-packages (from dash>=2.9.0->plotly-resampler>=0.8.3.1->pycaret) (1.3.4)\n",
      "Requirement already satisfied: nest-asyncio in /Users/juanviatela/anaconda3/lib/python3.10/site-packages (from dash>=2.9.0->plotly-resampler>=0.8.3.1->pycaret) (1.5.6)\n",
      "Requirement already satisfied: Flask<3.1,>=1.0.4 in /Users/juanviatela/anaconda3/lib/python3.10/site-packages (from dash>=2.9.0->plotly-resampler>=0.8.3.1->pycaret) (2.2.2)\n",
      "Requirement already satisfied: typing-extensions>=4.1.1 in /Users/juanviatela/anaconda3/lib/python3.10/site-packages (from dash>=2.9.0->plotly-resampler>=0.8.3.1->pycaret) (4.9.0)\n",
      "Requirement already satisfied: dash-core-components==2.0.0 in /Users/juanviatela/anaconda3/lib/python3.10/site-packages (from dash>=2.9.0->plotly-resampler>=0.8.3.1->pycaret) (2.0.0)\n",
      "Requirement already satisfied: dash-table==5.0.0 in /Users/juanviatela/anaconda3/lib/python3.10/site-packages (from dash>=2.9.0->plotly-resampler>=0.8.3.1->pycaret) (5.0.0)\n",
      "Requirement already satisfied: wrapt<2,>=1.10 in /Users/juanviatela/anaconda3/lib/python3.10/site-packages (from deprecated>=1.2.13->sktime!=0.17.1,!=0.17.2,!=0.18.0,<0.22.0,>=0.16.1->pycaret) (1.14.1)\n",
      "Requirement already satisfied: jupyter-client>=6.1.12 in /Users/juanviatela/anaconda3/lib/python3.10/site-packages (from ipykernel>=4.5.1->ipywidgets>=7.6.5->pycaret) (7.3.4)\n",
      "Requirement already satisfied: tornado>=6.1 in /Users/juanviatela/anaconda3/lib/python3.10/site-packages (from ipykernel>=4.5.1->ipywidgets>=7.6.5->pycaret) (6.1)\n",
      "Requirement already satisfied: debugpy>=1.0 in /Users/juanviatela/anaconda3/lib/python3.10/site-packages (from ipykernel>=4.5.1->ipywidgets>=7.6.5->pycaret) (1.5.1)\n",
      "Requirement already satisfied: comm>=0.1.1 in /Users/juanviatela/anaconda3/lib/python3.10/site-packages (from ipykernel>=4.5.1->ipywidgets>=7.6.5->pycaret) (0.1.2)\n",
      "Requirement already satisfied: pyzmq>=17 in /Users/juanviatela/anaconda3/lib/python3.10/site-packages (from ipykernel>=4.5.1->ipywidgets>=7.6.5->pycaret) (23.2.0)\n",
      "Requirement already satisfied: parso<0.9.0,>=0.8.0 in /Users/juanviatela/anaconda3/lib/python3.10/site-packages (from jedi>=0.16->ipython>=5.5.0->pycaret) (0.8.3)\n",
      "Requirement already satisfied: pyrsistent!=0.17.0,!=0.17.1,!=0.17.2,>=0.14.0 in /Users/juanviatela/anaconda3/lib/python3.10/site-packages (from jsonschema>=2.6->nbformat>=4.2.0->pycaret) (0.18.0)\n",
      "Requirement already satisfied: attrs>=17.4.0 in /Users/juanviatela/anaconda3/lib/python3.10/site-packages (from jsonschema>=2.6->nbformat>=4.2.0->pycaret) (22.1.0)\n",
      "Requirement already satisfied: ptyprocess>=0.5 in /Users/juanviatela/anaconda3/lib/python3.10/site-packages (from pexpect>4.3->ipython>=5.5.0->pycaret) (0.7.0)\n",
      "Requirement already satisfied: wcwidth in /Users/juanviatela/anaconda3/lib/python3.10/site-packages (from prompt-toolkit<3.1.0,>=3.0.30->ipython>=5.5.0->pycaret) (0.2.5)\n",
      "Requirement already satisfied: notebook>=4.4.1 in /Users/juanviatela/anaconda3/lib/python3.10/site-packages (from widgetsnbextension~=3.5.0->ipywidgets>=7.6.5->pycaret) (6.5.4)\n",
      "Requirement already satisfied: platformdirs>=2.5 in /Users/juanviatela/anaconda3/lib/python3.10/site-packages (from jupyter-core->nbformat>=4.2.0->pycaret) (2.5.2)\n",
      "Requirement already satisfied: asttokens in /Users/juanviatela/anaconda3/lib/python3.10/site-packages (from stack-data->ipython>=5.5.0->pycaret) (2.0.5)\n",
      "Requirement already satisfied: pure-eval in /Users/juanviatela/anaconda3/lib/python3.10/site-packages (from stack-data->ipython>=5.5.0->pycaret) (0.2.2)\n",
      "Requirement already satisfied: executing in /Users/juanviatela/anaconda3/lib/python3.10/site-packages (from stack-data->ipython>=5.5.0->pycaret) (0.8.3)\n",
      "Requirement already satisfied: itsdangerous>=2.0 in /Users/juanviatela/anaconda3/lib/python3.10/site-packages (from Flask<3.1,>=1.0.4->dash>=2.9.0->plotly-resampler>=0.8.3.1->pycaret) (2.0.1)\n",
      "Requirement already satisfied: click>=8.0 in /Users/juanviatela/anaconda3/lib/python3.10/site-packages (from Flask<3.1,>=1.0.4->dash>=2.9.0->plotly-resampler>=0.8.3.1->pycaret) (8.0.4)\n"
     ]
    },
    {
     "name": "stdout",
     "output_type": "stream",
     "text": [
      "Requirement already satisfied: entrypoints in /Users/juanviatela/anaconda3/lib/python3.10/site-packages (from jupyter-client>=6.1.12->ipykernel>=4.5.1->ipywidgets>=7.6.5->pycaret) (0.4)\n",
      "Requirement already satisfied: nbclassic>=0.4.7 in /Users/juanviatela/anaconda3/lib/python3.10/site-packages (from notebook>=4.4.1->widgetsnbextension~=3.5.0->ipywidgets>=7.6.5->pycaret) (0.5.2)\n",
      "Requirement already satisfied: nbconvert>=5 in /Users/juanviatela/anaconda3/lib/python3.10/site-packages (from notebook>=4.4.1->widgetsnbextension~=3.5.0->ipywidgets>=7.6.5->pycaret) (6.5.4)\n",
      "Requirement already satisfied: terminado>=0.8.3 in /Users/juanviatela/anaconda3/lib/python3.10/site-packages (from notebook>=4.4.1->widgetsnbextension~=3.5.0->ipywidgets>=7.6.5->pycaret) (0.17.1)\n",
      "Requirement already satisfied: argon2-cffi in /Users/juanviatela/anaconda3/lib/python3.10/site-packages (from notebook>=4.4.1->widgetsnbextension~=3.5.0->ipywidgets>=7.6.5->pycaret) (21.3.0)\n",
      "Requirement already satisfied: prometheus-client in /Users/juanviatela/anaconda3/lib/python3.10/site-packages (from notebook>=4.4.1->widgetsnbextension~=3.5.0->ipywidgets>=7.6.5->pycaret) (0.14.1)\n",
      "Requirement already satisfied: Send2Trash>=1.8.0 in /Users/juanviatela/anaconda3/lib/python3.10/site-packages (from notebook>=4.4.1->widgetsnbextension~=3.5.0->ipywidgets>=7.6.5->pycaret) (1.8.0)\n",
      "Requirement already satisfied: jupyter-server>=1.8 in /Users/juanviatela/anaconda3/lib/python3.10/site-packages (from nbclassic>=0.4.7->notebook>=4.4.1->widgetsnbextension~=3.5.0->ipywidgets>=7.6.5->pycaret) (1.23.4)\n",
      "Requirement already satisfied: notebook-shim>=0.1.0 in /Users/juanviatela/anaconda3/lib/python3.10/site-packages (from nbclassic>=0.4.7->notebook>=4.4.1->widgetsnbextension~=3.5.0->ipywidgets>=7.6.5->pycaret) (0.2.2)\n",
      "Requirement already satisfied: mistune<2,>=0.8.1 in /Users/juanviatela/anaconda3/lib/python3.10/site-packages (from nbconvert>=5->notebook>=4.4.1->widgetsnbextension~=3.5.0->ipywidgets>=7.6.5->pycaret) (0.8.4)\n",
      "Requirement already satisfied: defusedxml in /Users/juanviatela/anaconda3/lib/python3.10/site-packages (from nbconvert>=5->notebook>=4.4.1->widgetsnbextension~=3.5.0->ipywidgets>=7.6.5->pycaret) (0.7.1)\n",
      "Requirement already satisfied: nbclient>=0.5.0 in /Users/juanviatela/anaconda3/lib/python3.10/site-packages (from nbconvert>=5->notebook>=4.4.1->widgetsnbextension~=3.5.0->ipywidgets>=7.6.5->pycaret) (0.5.13)\n",
      "Requirement already satisfied: pandocfilters>=1.4.1 in /Users/juanviatela/anaconda3/lib/python3.10/site-packages (from nbconvert>=5->notebook>=4.4.1->widgetsnbextension~=3.5.0->ipywidgets>=7.6.5->pycaret) (1.5.0)\n",
      "Requirement already satisfied: jupyterlab-pygments in /Users/juanviatela/anaconda3/lib/python3.10/site-packages (from nbconvert>=5->notebook>=4.4.1->widgetsnbextension~=3.5.0->ipywidgets>=7.6.5->pycaret) (0.1.2)\n",
      "Requirement already satisfied: tinycss2 in /Users/juanviatela/anaconda3/lib/python3.10/site-packages (from nbconvert>=5->notebook>=4.4.1->widgetsnbextension~=3.5.0->ipywidgets>=7.6.5->pycaret) (1.2.1)\n",
      "Requirement already satisfied: bleach in /Users/juanviatela/anaconda3/lib/python3.10/site-packages (from nbconvert>=5->notebook>=4.4.1->widgetsnbextension~=3.5.0->ipywidgets>=7.6.5->pycaret) (4.1.0)\n",
      "Requirement already satisfied: lxml in /Users/juanviatela/anaconda3/lib/python3.10/site-packages (from nbconvert>=5->notebook>=4.4.1->widgetsnbextension~=3.5.0->ipywidgets>=7.6.5->pycaret) (4.9.1)\n",
      "Requirement already satisfied: beautifulsoup4 in /Users/juanviatela/anaconda3/lib/python3.10/site-packages (from nbconvert>=5->notebook>=4.4.1->widgetsnbextension~=3.5.0->ipywidgets>=7.6.5->pycaret) (4.11.1)\n",
      "Requirement already satisfied: argon2-cffi-bindings in /Users/juanviatela/anaconda3/lib/python3.10/site-packages (from argon2-cffi->notebook>=4.4.1->widgetsnbextension~=3.5.0->ipywidgets>=7.6.5->pycaret) (21.2.0)\n",
      "Requirement already satisfied: websocket-client in /Users/juanviatela/anaconda3/lib/python3.10/site-packages (from jupyter-server>=1.8->nbclassic>=0.4.7->notebook>=4.4.1->widgetsnbextension~=3.5.0->ipywidgets>=7.6.5->pycaret) (0.58.0)\n",
      "Requirement already satisfied: anyio<4,>=3.1.0 in /Users/juanviatela/anaconda3/lib/python3.10/site-packages (from jupyter-server>=1.8->nbclassic>=0.4.7->notebook>=4.4.1->widgetsnbextension~=3.5.0->ipywidgets>=7.6.5->pycaret) (3.5.0)\n",
      "Requirement already satisfied: cffi>=1.0.1 in /Users/juanviatela/anaconda3/lib/python3.10/site-packages (from argon2-cffi-bindings->argon2-cffi->notebook>=4.4.1->widgetsnbextension~=3.5.0->ipywidgets>=7.6.5->pycaret) (1.15.1)\n",
      "Requirement already satisfied: soupsieve>1.2 in /Users/juanviatela/anaconda3/lib/python3.10/site-packages (from beautifulsoup4->nbconvert>=5->notebook>=4.4.1->widgetsnbextension~=3.5.0->ipywidgets>=7.6.5->pycaret) (2.3.2.post1)\n",
      "Requirement already satisfied: webencodings in /Users/juanviatela/anaconda3/lib/python3.10/site-packages (from bleach->nbconvert>=5->notebook>=4.4.1->widgetsnbextension~=3.5.0->ipywidgets>=7.6.5->pycaret) (0.5.1)\n",
      "Requirement already satisfied: sniffio>=1.1 in /Users/juanviatela/anaconda3/lib/python3.10/site-packages (from anyio<4,>=3.1.0->jupyter-server>=1.8->nbclassic>=0.4.7->notebook>=4.4.1->widgetsnbextension~=3.5.0->ipywidgets>=7.6.5->pycaret) (1.2.0)\n",
      "Requirement already satisfied: pycparser in /Users/juanviatela/anaconda3/lib/python3.10/site-packages (from cffi>=1.0.1->argon2-cffi-bindings->argon2-cffi->notebook>=4.4.1->widgetsnbextension~=3.5.0->ipywidgets>=7.6.5->pycaret) (2.21)\n"
     ]
    }
   ],
   "source": [
    "#instalamos transformers y pycaret\n",
    "! pip install transformers\n",
    "! pip install pycaret"
   ]
  },
  {
   "cell_type": "code",
   "execution_count": 93,
   "id": "2c04bbec",
   "metadata": {},
   "outputs": [],
   "source": [
    "import numpy as np\n",
    "import pandas as pd\n",
    "import matplotlib.pyplot as plt\n",
    "import pycaret\n",
    "import transformers\n",
    "from transformers import AutoModel, BertTokenizerFast\n",
    "import matplotlib.pyplot as plt\n",
    "from sklearn.metrics import confusion_matrix\n",
    "from sklearn.model_selection import train_test_split\n",
    "from sklearn.metrics import classification_report\n",
    "import torch\n",
    "import torch.nn as nn\n",
    "import seaborn as sns \n",
    "import torch.nn.functional as F\n",
    "\n",
    "# specify GPU  (as I don't have GPU I specify the CPU instead)\n",
    "device = torch.device(\"cuda\" if torch.cuda.is_available() else \"cpu\")"
   ]
  },
  {
   "cell_type": "code",
   "execution_count": 170,
   "id": "1b33d5f2",
   "metadata": {},
   "outputs": [],
   "source": [
    "#configuración notebook\n",
    "pd.set_option('display.max_colwidth', None)"
   ]
  },
  {
   "cell_type": "code",
   "execution_count": 94,
   "id": "b82c215d",
   "metadata": {},
   "outputs": [
    {
     "name": "stdout",
     "output_type": "stream",
     "text": [
      "No se detectaron GPUs disponibles.\n"
     ]
    }
   ],
   "source": [
    "#comprobación de GPU\n",
    "\n",
    "if torch.cuda.is_available():\n",
    "    # Obtén el número de GPUs disponibles\n",
    "    num_gpus = torch.cuda.device_count()\n",
    "    \n",
    "    # Muestra información sobre cada GPU\n",
    "    for i in range(num_gpus):\n",
    "        gpu_name = torch.cuda.get_device_name(i)\n",
    "        print(f\"GPU {i + 1}: {gpu_name}\")\n",
    "else:\n",
    "    print(\"No se detectaron GPUs disponibles.\")"
   ]
  },
  {
   "cell_type": "code",
   "execution_count": 95,
   "id": "f7979c5a",
   "metadata": {},
   "outputs": [
    {
     "name": "stdout",
     "output_type": "stream",
     "text": [
      "La ruta actual es: /Users/juanviatela/Google Drive (juanviatela@gmail.com)/Notebooks/Proyecto Final\n"
     ]
    }
   ],
   "source": [
    "#definir e imprimir la ruta actual del notebook y de los archivos que se importaran y se descargaran \n",
    "\n",
    "import os\n",
    "os.chdir('/Users/juanviatela/Google Drive (juanviatela@gmail.com)/Notebooks/Proyecto Final')\n",
    "current_directory = os.getcwd()\n",
    "print(\"La ruta actual es:\", current_directory)"
   ]
  },
  {
   "cell_type": "markdown",
   "id": "a8ff157f",
   "metadata": {},
   "source": [
    "# 2. Importación de los datasets y creación de los conjuntos de entrenamiento, test y validación"
   ]
  },
  {
   "cell_type": "code",
   "execution_count": 96,
   "id": "4c51ea16",
   "metadata": {},
   "outputs": [],
   "source": [
    "#importamos los datasets\n",
    "df_fakenews_2022 = pd.read_excel('Corpus_Noticias_2022.xlsx')\n",
    "df_fakenews_2023 = pd.read_excel('Corpus_Noticias_2023.xlsx')"
   ]
  },
  {
   "cell_type": "code",
   "execution_count": 147,
   "id": "a2a946dc",
   "metadata": {},
   "outputs": [],
   "source": [
    "#concatenamos los datasets\n",
    "df_news_concat = pd.concat([df_fakenews_2022, df_fakenews_2023], ignore_index=True)"
   ]
  },
  {
   "cell_type": "code",
   "execution_count": 98,
   "id": "7b8d5012",
   "metadata": {},
   "outputs": [],
   "source": [
    "#codificamos los labels\n",
    "category_codes = {\n",
    "     'Noticia Real': 0,\n",
    "     'Noticia Falsa': 1\n",
    "}\n",
    "\n",
    "#creamos una nueva columna 'label' con las etiquetas. 0 para noticia real, 1 para noticia falsa. \n",
    "df_news_concat['label'] = df_news_concat['Categoria']\n",
    "df_news_concat = df_news_concat.replace({'label':category_codes})"
   ]
  },
  {
   "cell_type": "code",
   "execution_count": 99,
   "id": "b3fcc6da",
   "metadata": {},
   "outputs": [
    {
     "data": {
      "text/html": [
       "<div>\n",
       "<style scoped>\n",
       "    .dataframe tbody tr th:only-of-type {\n",
       "        vertical-align: middle;\n",
       "    }\n",
       "\n",
       "    .dataframe tbody tr th {\n",
       "        vertical-align: top;\n",
       "    }\n",
       "\n",
       "    .dataframe thead th {\n",
       "        text-align: right;\n",
       "    }\n",
       "</style>\n",
       "<table border=\"1\" class=\"dataframe\">\n",
       "  <thead>\n",
       "    <tr style=\"text-align: right;\">\n",
       "      <th></th>\n",
       "      <th>ID</th>\n",
       "      <th>Categoria</th>\n",
       "      <th>Tema</th>\n",
       "      <th>Origen</th>\n",
       "      <th>Titulo</th>\n",
       "      <th>Texto</th>\n",
       "      <th>Fuente</th>\n",
       "      <th>label</th>\n",
       "    </tr>\n",
       "  </thead>\n",
       "  <tbody>\n",
       "    <tr>\n",
       "      <th>0</th>\n",
       "      <td>1</td>\n",
       "      <td>Noticia Real</td>\n",
       "      <td>Politico</td>\n",
       "      <td>El tiempo</td>\n",
       "      <td>Duque dice que Eln se adjudicó atentado y busc...</td>\n",
       "      <td>El presidente Iván Duque condenó fuertemente e...</td>\n",
       "      <td>https://www.eltiempo.com/politica/gobierno/eln...</td>\n",
       "      <td>0</td>\n",
       "    </tr>\n",
       "    <tr>\n",
       "      <th>1</th>\n",
       "      <td>2</td>\n",
       "      <td>Noticia Real</td>\n",
       "      <td>Politico</td>\n",
       "      <td>El espectador</td>\n",
       "      <td>Gustavo Petro se reunirá con Pedro Sánchez, pr...</td>\n",
       "      <td>Gustavo Petro se reunirá con Pedro Sánchez, pr...</td>\n",
       "      <td>https://www.elespectador.com/politica/?utm_sou...</td>\n",
       "      <td>0</td>\n",
       "    </tr>\n",
       "    <tr>\n",
       "      <th>2</th>\n",
       "      <td>3</td>\n",
       "      <td>Noticia Real</td>\n",
       "      <td>Politico</td>\n",
       "      <td>El tiempo</td>\n",
       "      <td>Marta Lucía Ramírez se queja por servicio en e...</td>\n",
       "      <td>Marta Lucía Ramírez se queja por servicio en e...</td>\n",
       "      <td>https://www.eltiempo.com/politica/gobierno/mar...</td>\n",
       "      <td>0</td>\n",
       "    </tr>\n",
       "    <tr>\n",
       "      <th>3</th>\n",
       "      <td>4</td>\n",
       "      <td>Noticia Real</td>\n",
       "      <td>Politico</td>\n",
       "      <td>El espectador</td>\n",
       "      <td>Elecciones de 2022 requieren mayor cuidado, po...</td>\n",
       "      <td>Elecciones de 2022 requieren mayor cuidado, po...</td>\n",
       "      <td>https://www.elespectador.com/politica/eleccion...</td>\n",
       "      <td>0</td>\n",
       "    </tr>\n",
       "    <tr>\n",
       "      <th>4</th>\n",
       "      <td>5</td>\n",
       "      <td>Noticia Real</td>\n",
       "      <td>Politico</td>\n",
       "      <td>El Nuevo Siglo</td>\n",
       "      <td>Procuraduría citó a mandatarios por fiestas en...</td>\n",
       "      <td>ANTE LA expansión de la variante ómicron en el...</td>\n",
       "      <td>https://www.elnuevosiglo.com.co/articulos/01-0...</td>\n",
       "      <td>0</td>\n",
       "    </tr>\n",
       "  </tbody>\n",
       "</table>\n",
       "</div>"
      ],
      "text/plain": [
       "   ID     Categoria      Tema          Origen  \\\n",
       "0   1  Noticia Real  Politico       El tiempo   \n",
       "1   2  Noticia Real  Politico   El espectador   \n",
       "2   3  Noticia Real  Politico       El tiempo   \n",
       "3   4  Noticia Real  Politico   El espectador   \n",
       "4   5  Noticia Real  Politico  El Nuevo Siglo   \n",
       "\n",
       "                                              Titulo  \\\n",
       "0  Duque dice que Eln se adjudicó atentado y busc...   \n",
       "1  Gustavo Petro se reunirá con Pedro Sánchez, pr...   \n",
       "2  Marta Lucía Ramírez se queja por servicio en e...   \n",
       "3  Elecciones de 2022 requieren mayor cuidado, po...   \n",
       "4  Procuraduría citó a mandatarios por fiestas en...   \n",
       "\n",
       "                                               Texto  \\\n",
       "0  El presidente Iván Duque condenó fuertemente e...   \n",
       "1  Gustavo Petro se reunirá con Pedro Sánchez, pr...   \n",
       "2  Marta Lucía Ramírez se queja por servicio en e...   \n",
       "3  Elecciones de 2022 requieren mayor cuidado, po...   \n",
       "4  ANTE LA expansión de la variante ómicron en el...   \n",
       "\n",
       "                                              Fuente  label  \n",
       "0  https://www.eltiempo.com/politica/gobierno/eln...      0  \n",
       "1  https://www.elespectador.com/politica/?utm_sou...      0  \n",
       "2  https://www.eltiempo.com/politica/gobierno/mar...      0  \n",
       "3  https://www.elespectador.com/politica/eleccion...      0  \n",
       "4  https://www.elnuevosiglo.com.co/articulos/01-0...      0  "
      ]
     },
     "execution_count": 99,
     "metadata": {},
     "output_type": "execute_result"
    }
   ],
   "source": [
    "df_news_concat.head(5)"
   ]
  },
  {
   "cell_type": "code",
   "execution_count": 100,
   "id": "7386de08",
   "metadata": {},
   "outputs": [
    {
     "data": {
      "text/html": [
       "<div>\n",
       "<style scoped>\n",
       "    .dataframe tbody tr th:only-of-type {\n",
       "        vertical-align: middle;\n",
       "    }\n",
       "\n",
       "    .dataframe tbody tr th {\n",
       "        vertical-align: top;\n",
       "    }\n",
       "\n",
       "    .dataframe thead th {\n",
       "        text-align: right;\n",
       "    }\n",
       "</style>\n",
       "<table border=\"1\" class=\"dataframe\">\n",
       "  <thead>\n",
       "    <tr style=\"text-align: right;\">\n",
       "      <th></th>\n",
       "      <th>Categoria</th>\n",
       "      <th>Texto</th>\n",
       "      <th>label</th>\n",
       "    </tr>\n",
       "  </thead>\n",
       "  <tbody>\n",
       "    <tr>\n",
       "      <th>0</th>\n",
       "      <td>Noticia Real</td>\n",
       "      <td>El presidente Iván Duque condenó fuertemente e...</td>\n",
       "      <td>0</td>\n",
       "    </tr>\n",
       "    <tr>\n",
       "      <th>1</th>\n",
       "      <td>Noticia Real</td>\n",
       "      <td>Gustavo Petro se reunirá con Pedro Sánchez, pr...</td>\n",
       "      <td>0</td>\n",
       "    </tr>\n",
       "    <tr>\n",
       "      <th>2</th>\n",
       "      <td>Noticia Real</td>\n",
       "      <td>Marta Lucía Ramírez se queja por servicio en e...</td>\n",
       "      <td>0</td>\n",
       "    </tr>\n",
       "    <tr>\n",
       "      <th>3</th>\n",
       "      <td>Noticia Real</td>\n",
       "      <td>Elecciones de 2022 requieren mayor cuidado, po...</td>\n",
       "      <td>0</td>\n",
       "    </tr>\n",
       "    <tr>\n",
       "      <th>4</th>\n",
       "      <td>Noticia Real</td>\n",
       "      <td>ANTE LA expansión de la variante ómicron en el...</td>\n",
       "      <td>0</td>\n",
       "    </tr>\n",
       "    <tr>\n",
       "      <th>...</th>\n",
       "      <td>...</td>\n",
       "      <td>...</td>\n",
       "      <td>...</td>\n",
       "    </tr>\n",
       "    <tr>\n",
       "      <th>1443</th>\n",
       "      <td>Noticia Falsa</td>\n",
       "      <td>Esta imagen me dejó marcado, yo la recuerdo y ...</td>\n",
       "      <td>1</td>\n",
       "    </tr>\n",
       "    <tr>\n",
       "      <th>1444</th>\n",
       "      <td>Noticia Falsa</td>\n",
       "      <td>En Alemania el gobierno subió el precio del co...</td>\n",
       "      <td>1</td>\n",
       "    </tr>\n",
       "    <tr>\n",
       "      <th>1445</th>\n",
       "      <td>Noticia Falsa</td>\n",
       "      <td>Gustavo Petro es un demonio que le ha dado el ...</td>\n",
       "      <td>1</td>\n",
       "    </tr>\n",
       "    <tr>\n",
       "      <th>1446</th>\n",
       "      <td>Noticia Falsa</td>\n",
       "      <td>Alias 19 será el nuevo comandante del Esmad no...</td>\n",
       "      <td>1</td>\n",
       "    </tr>\n",
       "    <tr>\n",
       "      <th>1447</th>\n",
       "      <td>Noticia Falsa</td>\n",
       "      <td>¡Atención, venezolanos! Hay una nueva ley para...</td>\n",
       "      <td>1</td>\n",
       "    </tr>\n",
       "  </tbody>\n",
       "</table>\n",
       "<p>1448 rows × 3 columns</p>\n",
       "</div>"
      ],
      "text/plain": [
       "          Categoria                                              Texto  label\n",
       "0      Noticia Real  El presidente Iván Duque condenó fuertemente e...      0\n",
       "1      Noticia Real  Gustavo Petro se reunirá con Pedro Sánchez, pr...      0\n",
       "2      Noticia Real  Marta Lucía Ramírez se queja por servicio en e...      0\n",
       "3      Noticia Real  Elecciones de 2022 requieren mayor cuidado, po...      0\n",
       "4      Noticia Real  ANTE LA expansión de la variante ómicron en el...      0\n",
       "...             ...                                                ...    ...\n",
       "1443  Noticia Falsa  Esta imagen me dejó marcado, yo la recuerdo y ...      1\n",
       "1444  Noticia Falsa  En Alemania el gobierno subió el precio del co...      1\n",
       "1445  Noticia Falsa  Gustavo Petro es un demonio que le ha dado el ...      1\n",
       "1446  Noticia Falsa  Alias 19 será el nuevo comandante del Esmad no...      1\n",
       "1447  Noticia Falsa  ¡Atención, venezolanos! Hay una nueva ley para...      1\n",
       "\n",
       "[1448 rows x 3 columns]"
      ]
     },
     "execution_count": 100,
     "metadata": {},
     "output_type": "execute_result"
    }
   ],
   "source": [
    "check_labels = df_news_concat[['Categoria', 'Texto', 'label']]\n",
    "check_labels"
   ]
  },
  {
   "cell_type": "code",
   "execution_count": 101,
   "id": "f7085b8a",
   "metadata": {},
   "outputs": [
    {
     "data": {
      "text/plain": [
       "([<matplotlib.patches.Wedge at 0x7fda20be6ce0>,\n",
       "  <matplotlib.patches.Wedge at 0x7fda20be7550>],\n",
       " [Text(-1.2000000000000002, 1.469576158976824e-16, 'Fake'),\n",
       "  Text(1.2000000000000002, -2.939152317953648e-16, 'True')],\n",
       " [Text(-0.7, 8.572527594031472e-17, '50.0%'),\n",
       "  Text(0.7, -1.7145055188062944e-16, '50.0%')])"
      ]
     },
     "execution_count": 101,
     "metadata": {},
     "output_type": "execute_result"
    },
    {
     "data": {
      "image/png": "[encoded data removed]",
      "text/plain": [
       "<Figure size 700x700 with 1 Axes>"
      ]
     },
     "metadata": {},
     "output_type": "display_data"
    }
   ],
   "source": [
    "#comprobamos si 'label' está balanceada\n",
    "label_size = [df_news_concat['label'].sum(),len(df_news_concat['label'])-df_news_concat['label'].sum()]\n",
    "plt.pie(label_size,explode=[0.1,0.1],colors=['firebrick','navy'],startangle=90,shadow=True,labels=['Fake','True'],autopct='%1.1f%%')"
   ]
  },
  {
   "cell_type": "code",
   "execution_count": 102,
   "id": "aef1836b",
   "metadata": {},
   "outputs": [],
   "source": [
    "#establecemos el valor de la semilla\n",
    "SEED = 42\n",
    "\n",
    "#creamos conjuntos de entrenamiento, validación y test (70:15:15)\n",
    "\n",
    "#creamos el conjunto train y el conjunto temp\n",
    "train_text, temp_text, train_labels, temp_labels = train_test_split(df_news_concat['Texto'], df_news_concat['label'], \n",
    "                                                                    random_state=SEED, \n",
    "                                                                    test_size=0.3, stratify=df_news_concat['Categoria'] \n",
    "                                                                    )\n",
    "# Creamos el conjunto de validación sobre el conjunto 'temp'\n",
    "val_text, test_text, val_labels, test_labels = train_test_split(temp_text, temp_labels, \n",
    "                                                                random_state=SEED, \n",
    "                                                                test_size=0.5, \n",
    "                                                                stratify=temp_labels)"
   ]
  },
  {
   "cell_type": "markdown",
   "id": "8aac24c5",
   "metadata": {},
   "source": [
    "# 3. Importación del modelo BERT en español, tokenización y construcción de tensores y dataloaders"
   ]
  },
  {
   "cell_type": "code",
   "execution_count": 103,
   "id": "e5c82cc7",
   "metadata": {},
   "outputs": [
    {
     "name": "stderr",
     "output_type": "stream",
     "text": [
      "Some weights of the model checkpoint at dccuchile/bert-base-spanish-wwm-cased were not used when initializing BertModel: ['cls.predictions.transform.dense.bias', 'cls.predictions.decoder.weight', 'cls.predictions.transform.LayerNorm.weight', 'cls.predictions.decoder.bias', 'cls.predictions.transform.LayerNorm.bias', 'cls.predictions.bias', 'cls.predictions.transform.dense.weight']\n",
      "- This IS expected if you are initializing BertModel from the checkpoint of a model trained on another task or with another architecture (e.g. initializing a BertForSequenceClassification model from a BertForPreTraining model).\n",
      "- This IS NOT expected if you are initializing BertModel from the checkpoint of a model that you expect to be exactly identical (initializing a BertForSequenceClassification model from a BertForSequenceClassification model).\n",
      "Some weights of BertModel were not initialized from the model checkpoint at dccuchile/bert-base-spanish-wwm-cased and are newly initialized: ['bert.pooler.dense.bias', 'bert.pooler.dense.weight']\n",
      "You should probably TRAIN this model on a down-stream task to be able to use it for predictions and inference.\n"
     ]
    }
   ],
   "source": [
    "#cargamos el modelo BETO y su tokenizer desde HuggingFace Transformers\n",
    "beto = AutoModel.from_pretrained('dccuchile/bert-base-spanish-wwm-cased')\n",
    "tokenizer = BertTokenizerFast.from_pretrained('dccuchile/bert-base-spanish-wwm-cased')"
   ]
  },
  {
   "cell_type": "code",
   "execution_count": 104,
   "id": "80a47a06",
   "metadata": {},
   "outputs": [
    {
     "data": {
      "text/plain": [
       "Text(0, 0.5, 'Number of texts')"
      ]
     },
     "execution_count": 104,
     "metadata": {},
     "output_type": "execute_result"
    },
    {
     "data": {
      "image/png": "[encoded data removed]",
      "text/plain": [
       "<Figure size 700x700 with 1 Axes>"
      ]
     },
     "metadata": {},
     "output_type": "display_data"
    }
   ],
   "source": [
    "#dibujamos un histograma del número de palabras en la columna \"Texto\" del conjunto de entrenamiento\n",
    "seq_len = [len(Texto.split()) for Texto in train_text]\n",
    "\n",
    "pd.Series(seq_len).hist(bins = 10,color='firebrick')\n",
    "plt.xlabel('Number of Words')\n",
    "plt.ylabel('Number of texts')"
   ]
  },
  {
   "cell_type": "code",
   "execution_count": 105,
   "id": "b0ffe49f",
   "metadata": {},
   "outputs": [
    {
     "name": "stdout",
     "output_type": "stream",
     "text": [
      "{'input_ids': [[4, 1162, 24132, 13088, 4569, 1058, 1216, 17181, 1038, 2943, 22577, 1009, 5], [4, 3678, 1049, 1962, 3640, 1009, 5, 1, 1, 1, 1, 1, 1]], 'token_type_ids': [[0, 0, 0, 0, 0, 0, 0, 0, 0, 0, 0, 0, 0], [0, 0, 0, 0, 0, 0, 0, 0, 0, 0, 0, 0, 0]], 'attention_mask': [[1, 1, 1, 1, 1, 1, 1, 1, 1, 1, 1, 1, 1], [1, 1, 1, 1, 1, 1, 1, 0, 0, 0, 0, 0, 0]]}\n"
     ]
    }
   ],
   "source": [
    "#Ejemplo de tokenización con la función nativa de Bert\n",
    "sample_data = [\"El chicharrón es más saludable que algunas verduras.\", \n",
    "               \"Según un nuevo estudio.\"]                                        \n",
    "tokenized_sample_data = tokenizer.batch_encode_plus(sample_data,\n",
    "                                                    padding=True)     \n",
    "print(tokenized_sample_data)"
   ]
  },
  {
   "cell_type": "markdown",
   "id": "6a8ec529",
   "metadata": {},
   "source": [
    "4 y 5 representan especial tokens al comienzo y el fnal de la frase. Y 1 representa el padding"
   ]
  },
  {
   "cell_type": "code",
   "execution_count": 106,
   "id": "cabbbfd2",
   "metadata": {},
   "outputs": [],
   "source": [
    "#la mayoría de noticias tienen menos de 120 palabras así que asígnamos MAX_LENGHT = 120\n",
    "MAX_LENGHT = 120\n",
    "#tokenizamos y codificamos el train set \n",
    "tokens_train = tokenizer.batch_encode_plus(\n",
    "    train_text.tolist(),\n",
    "    max_length = MAX_LENGHT,\n",
    "    pad_to_max_length=True,\n",
    "    truncation=True\n",
    ")\n",
    "#tokenizamos y codificamos el validation set\n",
    "tokens_val = tokenizer.batch_encode_plus(\n",
    "    val_text.tolist(),\n",
    "    max_length = MAX_LENGHT,\n",
    "    pad_to_max_length=True,\n",
    "    truncation=True\n",
    ")\n",
    "#tokenizamos y codificamos el test set\n",
    "tokens_test = tokenizer.batch_encode_plus(\n",
    "    test_text.tolist(),\n",
    "    max_length = MAX_LENGHT,\n",
    "    pad_to_max_length=True,\n",
    "    truncation=True\n",
    ")"
   ]
  },
  {
   "cell_type": "markdown",
   "id": "5af7c8f6",
   "metadata": {},
   "source": [
    "Este código utiliza el tokenizador BERT para convertir las secuencias de texto en representaciones numéricas (tokens) que pueden ser utilizadas como entrada en un modelo de aprendizaje automático, como por ejemplo un modelo de detección de noticias falsas basado en BERT.\n",
    "\n",
    "Aquí se utiliza el método batch_encode_plus del tokenizador BERT para tokenizar y codificar por lotes las secuencias de texto en el conjunto de entrenamiento (train_text). Los parámetros importantes son:\n",
    "\n",
    "max_length: La longitud máxima de las secuencias después de la tokenización.\n",
    "pad_to_max_length: Rellena las secuencias para que tengan la longitud máxima establecida.\n",
    "truncation: Trunca las secuencias si exceden la longitud máxima permitida.\n",
    "El resultado (tokens_train) es un diccionario que contiene las representaciones codificadas de las secuencias de entrenamiento."
   ]
  },
  {
   "cell_type": "code",
   "execution_count": 107,
   "id": "6f5e3404",
   "metadata": {},
   "outputs": [],
   "source": [
    "#convertimos los tres conjuntos tokenizados (train, val y test) y sus labels en tensores utiliando \n",
    "#'inputs_ids' y 'attention_mask'\n",
    "train_seq = torch.tensor(tokens_train['input_ids'])\n",
    "train_mask = torch.tensor(tokens_train['attention_mask'])\n",
    "train_y = torch.tensor(train_labels.tolist())\n",
    "\n",
    "val_seq = torch.tensor(tokens_val['input_ids'])\n",
    "val_mask = torch.tensor(tokens_val['attention_mask'])\n",
    "val_y = torch.tensor(val_labels.tolist())\n",
    "\n",
    "test_seq = torch.tensor(tokens_test['input_ids'])\n",
    "test_mask = torch.tensor(tokens_test['attention_mask'])\n",
    "test_y = torch.tensor(test_labels.tolist())"
   ]
  },
  {
   "cell_type": "code",
   "execution_count": 108,
   "id": "083ac7bd",
   "metadata": {},
   "outputs": [],
   "source": [
    "#definimos la estructura de los data loader\n",
    "from torch.utils.data import TensorDataset, DataLoader, RandomSampler, SequentialSampler\n",
    "\n",
    "#El tamaño del lote es la cantidad de ejemplos de entrenamiento que se procesarán en paralelo durante una \n",
    "#iteración de entrenamiento.\n",
    "batch_size = 32                                               \n",
    "\n",
    "#envolvemos los tensores en un solo conjunto\n",
    "train_data = TensorDataset(train_seq, train_mask, train_y)    \n",
    "#creamos un sampler para el conjunto de entrenamiento\n",
    "train_sampler = RandomSampler(train_data)                     \n",
    "#construimos el dataloader con el conjunto de datos de entrenamiento, el sampler el tamaño del batch\n",
    "train_dataloader = DataLoader(train_data, sampler=train_sampler, batch_size=batch_size)\n",
    "\n",
    "#realizamos la misma operación para el conjunto de validación \n",
    "val_data = TensorDataset(val_seq, val_mask, val_y)            \n",
    "val_sampler = SequentialSampler(val_data)                     \n",
    "val_dataloader = DataLoader(val_data, sampler = val_sampler, batch_size=batch_size)"
   ]
  },
  {
   "cell_type": "markdown",
   "id": "bb417ac6",
   "metadata": {},
   "source": [
    "# 4. Arquitectura de la red neuronal\n"
   ]
  },
  {
   "cell_type": "code",
   "execution_count": 109,
   "id": "66ff29fc",
   "metadata": {},
   "outputs": [],
   "source": [
    "#Congelamos los parámetros de Beto para que no se reentrenen con los datos nuevos. \n",
    "for param in beto.parameters():\n",
    "    param.requires_grad = False    "
   ]
  },
  {
   "cell_type": "code",
   "execution_count": 110,
   "id": "614c51e0",
   "metadata": {},
   "outputs": [],
   "source": [
    "#definimos la clase de red neuronal (nn)\n",
    "class BERT_Arch(nn.Module):\n",
    "#instanciamos el modelo beto y definimos sus parámetros     \n",
    "    def __init__(self, beto):  \n",
    "        super(BERT_Arch, self).__init__()\n",
    "        self.bert = beto   \n",
    "        self.dropout = nn.Dropout(0.1)            # capa dropout \n",
    "        self.relu =  nn.ReLU()                    # función de activación relu \n",
    "        self.fc1 = nn.Linear(768,512)             # capa densa 1\n",
    "        self.fc2 = nn.Linear(512,2)               # capa densa 2 (capa de salida)\n",
    "        self.softmax = nn.LogSoftmax(dim=1)       # función de activación softmax (convertir la salida en probabilidad algorítmica)\n",
    "#instanciamos forward para echar a correr el modelo sobre los datos nuevos  \n",
    "    def forward(self, sent_id, mask):             \n",
    "        cls_hs = self.bert(sent_id, attention_mask=mask)['pooler_output']\n",
    "                                                # pasar los inputs al modelo\n",
    "        x = self.fc1(cls_hs)\n",
    "        x = self.relu(x)\n",
    "        x = self.dropout(x)\n",
    "        x = self.fc2(x)                           # capa de salida\n",
    "        x = self.softmax(x)                       # aplicar softmax \n",
    "        return x\n",
    "    \n",
    "#instaciamos el modelo con el modelo preentrenamo beto\n",
    "model = BERT_Arch(beto)\n",
    "#definimos los hiperparámetros (optimizer, weights of the classes and the epochs)\n",
    "#optimizador y tasa de aprendizaje\n",
    "from transformers import AdamW\n",
    "optimizer = AdamW(model.parameters(),\n",
    "                  lr = 1e-5)          \n",
    "#definimos tasa de pérdida\n",
    "cross_entropy  = nn.NLLLoss() \n",
    "#establécemos el número de épocas de entrenamiento\n",
    "epochs = 10"
   ]
  },
  {
   "cell_type": "markdown",
   "id": "064df67a",
   "metadata": {},
   "source": [
    "# 5. Creación de funciónes de entrenamiento y de evaluación \n"
   ]
  },
  {
   "cell_type": "code",
   "execution_count": 114,
   "id": "95e00397",
   "metadata": {},
   "outputs": [],
   "source": [
    "#definimos las funciones de entrenamiento y de evaluación \n",
    "def train():  \n",
    "    model.train()\n",
    "    total_loss, total_accuracy = 0, 0\n",
    "  \n",
    "   \n",
    "    for step,batch in enumerate(train_dataloader):                #itera sobre los lotes\n",
    "        if step % 50 == 0 and not step == 0:                        \n",
    "            print('  Batch {:>5,}  of  {:>5,}.'.format(step, len(train_dataloader)))\n",
    "        batch = [r for r in batch]                                  \n",
    "        sent_id, mask, labels = batch \n",
    "        model.zero_grad()                                           # limpia los gradientes calculados anteriormente\n",
    "        preds = model(sent_id, mask)                                # obtiene las predicciones del modelo para el lote actual\n",
    "        loss = cross_entropy(preds, labels)                         # computa las pérdidas entre los valores reales y sus predicciones\n",
    "        total_loss = total_loss + loss.item()                       # suma la pérdida total\n",
    "        loss.backward()                                             # echa hacia atrás para recalcular los gradientes \n",
    "        torch.nn.utils.clip_grad_norm_(model.parameters(), 1.0)     # transforma los gradientes en 0 y 1 \n",
    "        optimizer.step()                                            # actualiza los parámetros\n",
    "        preds=preds.detach().cpu().numpy()                          # manda las predicciones a la cpu\n",
    "\n",
    "    avg_loss = total_loss / len(train_dataloader)                 # computa la pérdida de entrenamiento por cada época  \n",
    "                                                                # formate las predicciones como (# samples, # classes)\n",
    "    return avg_loss                                 # retorna la pérdida y las predicciones\n",
    "\n",
    "def evaluate():  \n",
    "    print(\"\\nEvaluating...\")  \n",
    "    model.eval()                                    # Desactiva las capas dropout \n",
    "    total_loss, total_accuracy = 0, 0  \n",
    "    \n",
    "    for step,batch in enumerate(val_dataloader):    # itera sobre los lotes  \n",
    "        if step % 50 == 0 and not step == 0:         \n",
    "                                                  \n",
    "            print('  Batch {:>5,}  of  {:>5,}.'.format(step, len(val_dataloader)))\n",
    "        \n",
    "                                                  \n",
    "        batch = [t for t in batch]                    \n",
    "        sent_id, mask, labels = batch\n",
    "   \n",
    "        with torch.no_grad():                         \n",
    "            preds = model(sent_id, mask)                # predicciones del modelo\n",
    "            loss = cross_entropy(preds,labels)          # calcula la pérdida del conjunto de validación entre los valores reales y las predicciones\n",
    "            total_loss = total_loss + loss.item()\n",
    "            preds = preds.detach().cpu().numpy()\n",
    "    avg_loss = total_loss / len(val_dataloader)         # computa la pérdida del conjunto de validación por cada época\n",
    "    return avg_loss"
   ]
  },
  {
   "cell_type": "code",
   "execution_count": 123,
   "id": "bc3fbbbd",
   "metadata": {},
   "outputs": [
    {
     "name": "stdout",
     "output_type": "stream",
     "text": [
      "\n",
      " Epoch 1 / 10\n",
      "\n",
      "Evaluating...\n",
      "\n",
      "Training Loss: 0.437\n",
      "Validation Loss: 0.392\n",
      "\n",
      " Epoch 2 / 10\n",
      "\n",
      "Evaluating...\n",
      "\n",
      "Training Loss: 0.419\n",
      "Validation Loss: 0.373\n",
      "\n",
      " Epoch 3 / 10\n",
      "\n",
      "Evaluating...\n",
      "\n",
      "Training Loss: 0.404\n",
      "Validation Loss: 0.355\n",
      "\n",
      " Epoch 4 / 10\n",
      "\n",
      "Evaluating...\n",
      "\n",
      "Training Loss: 0.391\n",
      "Validation Loss: 0.340\n",
      "\n",
      " Epoch 5 / 10\n",
      "\n",
      "Evaluating...\n",
      "\n",
      "Training Loss: 0.372\n",
      "Validation Loss: 0.327\n",
      "\n",
      " Epoch 6 / 10\n",
      "\n",
      "Evaluating...\n",
      "\n",
      "Training Loss: 0.365\n",
      "Validation Loss: 0.315\n",
      "\n",
      " Epoch 7 / 10\n",
      "\n",
      "Evaluating...\n",
      "\n",
      "Training Loss: 0.347\n",
      "Validation Loss: 0.303\n",
      "\n",
      " Epoch 8 / 10\n",
      "\n",
      "Evaluating...\n",
      "\n",
      "Training Loss: 0.335\n",
      "Validation Loss: 0.289\n",
      "\n",
      " Epoch 9 / 10\n",
      "\n",
      "Evaluating...\n",
      "\n",
      "Training Loss: 0.319\n",
      "Validation Loss: 0.279\n",
      "\n",
      " Epoch 10 / 10\n",
      "\n",
      "Evaluating...\n",
      "\n",
      "Training Loss: 0.315\n",
      "Validation Loss: 0.270\n"
     ]
    }
   ],
   "source": [
    "# Entrenamiento y predicción\n",
    "best_valid_loss = float('inf')\n",
    "train_losses=[]                   # creamos listas vacías para almacenar las pérdidas de entrenamiento y validación por cada época\n",
    "valid_losses=[]\n",
    "\n",
    "for epoch in range(epochs):     \n",
    "    print('\\n Epoch {:} / {:}'.format(epoch + 1, epochs))     \n",
    "    train_loss = train()                       # entrena el modelo\n",
    "    valid_loss = evaluate()                    # evalua el modelo\n",
    "    if valid_loss < best_valid_loss:              # almacena el mejor modelo\n",
    "        best_valid_loss = valid_loss\n",
    "        torch.save(model.state_dict(), 'c2_new_model_weights.pt')\n",
    "    train_losses.append(train_loss)               # agrega valores de pérdidas a las listas vacías\n",
    "    valid_losses.append(valid_loss)\n",
    "    \n",
    "    print(f'\\nTraining Loss: {train_loss:.3f}')\n",
    "    print(f'Validation Loss: {valid_loss:.3f}')"
   ]
  },
  {
   "cell_type": "markdown",
   "id": "93c59745",
   "metadata": {},
   "source": [
    "# 6. Visualización de los resultados"
   ]
  },
  {
   "cell_type": "code",
   "execution_count": 130,
   "id": "280cbed1",
   "metadata": {},
   "outputs": [
    {
     "data": {
      "image/png": "[encoded data removed]",
      "text/plain": [
       "<Figure size 1000x600 with 1 Axes>"
      ]
     },
     "metadata": {},
     "output_type": "display_data"
    }
   ],
   "source": [
    "# Visualizamos las pérdidas en los conjuntos de entrenamiento y validación por épocas \n",
    "# Crear una figura y ejes\n",
    "plt.figure(figsize=(10, 6))\n",
    "epochs_range = range(1, epochs + 1)\n",
    "\n",
    "# Plotear las curvas de pérdida de entrenamiento y validación\n",
    "plt.plot(epochs_range, train_losses, label='Training Loss', marker='o')\n",
    "plt.plot(epochs_range, valid_losses, label='Validation Loss', marker='o')\n",
    "\n",
    "# Configuramos el  gráfico\n",
    "plt.xlabel('Epochs')\n",
    "plt.ylabel('Loss')\n",
    "plt.title('Training and Validation Loss Over Epochs')\n",
    "plt.legend()  # Mostrar la leyenda con etiquetas\n",
    "plt.show()"
   ]
  },
  {
   "cell_type": "markdown",
   "id": "24ac3713",
   "metadata": {},
   "source": [
    "La gráfica nos demuestra que la pérdida tanto en el conjunto de entrenamiento como de validación disminuyó en cada una de las épocas. "
   ]
  },
  {
   "cell_type": "markdown",
   "id": "f3ccafc7",
   "metadata": {},
   "source": [
    "# 7. Evaluación del modelo "
   ]
  },
  {
   "cell_type": "code",
   "execution_count": 124,
   "id": "905f91b3",
   "metadata": {},
   "outputs": [
    {
     "data": {
      "text/plain": [
       "<All keys matched successfully>"
      ]
     },
     "execution_count": 124,
     "metadata": {},
     "output_type": "execute_result"
    }
   ],
   "source": [
    "#cargamos el archivo que contiene los pesos del mejor modelo\n",
    "path = 'c2_new_model_weights.pt'\n",
    "model.load_state_dict(torch.load(path))"
   ]
  },
  {
   "cell_type": "code",
   "execution_count": 125,
   "id": "6f27d1c0",
   "metadata": {},
   "outputs": [
    {
     "name": "stdout",
     "output_type": "stream",
     "text": [
      "              precision    recall  f1-score   support\n",
      "\n",
      "           0       0.89      0.96      0.93       109\n",
      "           1       0.96      0.88      0.92       109\n",
      "\n",
      "    accuracy                           0.92       218\n",
      "   macro avg       0.92      0.92      0.92       218\n",
      "weighted avg       0.92      0.92      0.92       218\n",
      "\n"
     ]
    }
   ],
   "source": [
    "#creamos un reporte de clasificación para determinar los scores\n",
    "with torch.no_grad():\n",
    "    preds = model(test_seq, test_mask)\n",
    "    preds = preds.detach().cpu().numpy()\n",
    "\n",
    "preds = np.argmax(preds, axis = 1)\n",
    "print(classification_report(test_y, preds))"
   ]
  },
  {
   "cell_type": "markdown",
   "id": "b1f1676e",
   "metadata": {},
   "source": [
    "El reporte de clasificación nos muestra un modelo con unos resultados muy buenos en todas sus métricas. "
   ]
  },
  {
   "cell_type": "code",
   "execution_count": 126,
   "id": "2cdb2b0c",
   "metadata": {},
   "outputs": [
    {
     "data": {
      "text/plain": [
       "Text(54.74999999999999, 0.5, 'Label_Test')"
      ]
     },
     "execution_count": 126,
     "metadata": {},
     "output_type": "execute_result"
    },
    {
     "data": {
      "image/png": "[encoded data removed]",
      "text/plain": [
       "<Figure size 700x700 with 1 Axes>"
      ]
     },
     "metadata": {},
     "output_type": "display_data"
    }
   ],
   "source": [
    "#definimos la matriz de confusión\n",
    "sns.set(rc={'figure.figsize':(7,7)})\n",
    "class_names=['Noticias verdadera', 'Noticias Falsa',]\n",
    "matrix=confusion_matrix(test_y, preds)\n",
    "\n",
    "#creamos el dataset\n",
    "dataframe_graf=pd.DataFrame(matrix, index=class_names, columns=class_names)\n",
    "\n",
    "#dibujamos el mapa de calor\n",
    "sns.heatmap(dataframe_graf, annot=True, cbar=None, cmap=\"Blues\",fmt='g')\n",
    "plt.title(\"Confusion Matrix\")\n",
    "plt.xlabel(\"Predicted\")\n",
    "plt.ylabel(\"Label_Test\")"
   ]
  },
  {
   "cell_type": "markdown",
   "id": "712ef5fb",
   "metadata": {},
   "source": [
    "En la matriz de confusión podemos observar que el modelo predice mucho mejor las noticias verdaderas (solo 4 fallos) que las falsas (13 fallos)"
   ]
  },
  {
   "cell_type": "markdown",
   "id": "f85167ce",
   "metadata": {},
   "source": [
    "# 8. Evaluación del mejor modelo con noticias nuevas\n",
    "\n",
    "Utilizamos el mismo conjunto de noticias nuevas para poner a prueba nuestro modelo"
   ]
  },
  {
   "cell_type": "code",
   "execution_count": 172,
   "id": "a7b042b2",
   "metadata": {},
   "outputs": [],
   "source": [
    "#importamos el dataset con las noticias nuevas \n",
    "df_detector = pd.read_excel('pruebas_fakenews_detector.xlsx', engine='openpyxl', converters={'Texto': str})\n",
    "news_list_df = df_detector['texto'].tolist()"
   ]
  },
  {
   "cell_type": "code",
   "execution_count": 173,
   "id": "15723d65",
   "metadata": {},
   "outputs": [
    {
     "data": {
      "text/html": [
       "<div>\n",
       "<style scoped>\n",
       "    .dataframe tbody tr th:only-of-type {\n",
       "        vertical-align: middle;\n",
       "    }\n",
       "\n",
       "    .dataframe tbody tr th {\n",
       "        vertical-align: top;\n",
       "    }\n",
       "\n",
       "    .dataframe thead th {\n",
       "        text-align: right;\n",
       "    }\n",
       "</style>\n",
       "<table border=\"1\" class=\"dataframe\">\n",
       "  <thead>\n",
       "    <tr style=\"text-align: right;\">\n",
       "      <th></th>\n",
       "      <th>titulo</th>\n",
       "      <th>label</th>\n",
       "      <th>tipo</th>\n",
       "    </tr>\n",
       "  </thead>\n",
       "  <tbody>\n",
       "    <tr>\n",
       "      <th>0</th>\n",
       "      <td>Nuevo uniforme de la Policía será reversible</td>\n",
       "      <td>1</td>\n",
       "      <td>sátira</td>\n",
       "    </tr>\n",
       "    <tr>\n",
       "      <th>1</th>\n",
       "      <td>Botiquines de vehículos deberán incluir frasco de ayahuasca</td>\n",
       "      <td>1</td>\n",
       "      <td>sátira</td>\n",
       "    </tr>\n",
       "    <tr>\n",
       "      <th>2</th>\n",
       "      <td>Ayudenos a pasar esta información! En los próximos días habrá un Domo Atmosférico de Calor</td>\n",
       "      <td>1</td>\n",
       "      <td>evidentemente falsa</td>\n",
       "    </tr>\n",
       "    <tr>\n",
       "      <th>3</th>\n",
       "      <td>Fallo de la Corte Suprema de Estados Unidos: Las vacunas contra el Covid NO son vacunas</td>\n",
       "      <td>1</td>\n",
       "      <td>evidentemente falsa</td>\n",
       "    </tr>\n",
       "    <tr>\n",
       "      <th>4</th>\n",
       "      <td>Petro reconoce responsabilidad de su Gobierno y el de Duque en pérdida de Panamericanos</td>\n",
       "      <td>0</td>\n",
       "      <td>evidentemente cierta</td>\n",
       "    </tr>\n",
       "    <tr>\n",
       "      <th>5</th>\n",
       "      <td>Capturan a alias Tato y a alias Gordo, dos de los hombres más buscado de Antioquia</td>\n",
       "      <td>0</td>\n",
       "      <td>evidentemente cierta</td>\n",
       "    </tr>\n",
       "    <tr>\n",
       "      <th>6</th>\n",
       "      <td>El chicharrón es más saludable que algunas verduras, según un nuevo estudio</td>\n",
       "      <td>1</td>\n",
       "      <td>salud</td>\n",
       "    </tr>\n",
       "    <tr>\n",
       "      <th>7</th>\n",
       "      <td>El director de la OMS pide acabar con el estigma y la discriminación de la lepra</td>\n",
       "      <td>0</td>\n",
       "      <td>salud</td>\n",
       "    </tr>\n",
       "  </tbody>\n",
       "</table>\n",
       "</div>"
      ],
      "text/plain": [
       "                                                                                       titulo  \\\n",
       "0                                                Nuevo uniforme de la Policía será reversible   \n",
       "1                                 Botiquines de vehículos deberán incluir frasco de ayahuasca   \n",
       "2  Ayudenos a pasar esta información! En los próximos días habrá un Domo Atmosférico de Calor   \n",
       "3     Fallo de la Corte Suprema de Estados Unidos: Las vacunas contra el Covid NO son vacunas   \n",
       "4     Petro reconoce responsabilidad de su Gobierno y el de Duque en pérdida de Panamericanos   \n",
       "5          Capturan a alias Tato y a alias Gordo, dos de los hombres más buscado de Antioquia   \n",
       "6                 El chicharrón es más saludable que algunas verduras, según un nuevo estudio   \n",
       "7            El director de la OMS pide acabar con el estigma y la discriminación de la lepra   \n",
       "\n",
       "   label                  tipo  \n",
       "0      1                sátira  \n",
       "1      1                sátira  \n",
       "2      1   evidentemente falsa  \n",
       "3      1   evidentemente falsa  \n",
       "4      0  evidentemente cierta  \n",
       "5      0  evidentemente cierta  \n",
       "6      1                salud   \n",
       "7      0                salud   "
      ]
     },
     "execution_count": 173,
     "metadata": {},
     "output_type": "execute_result"
    }
   ],
   "source": [
    "df_detector[['titulo','label', 'tipo']]"
   ]
  },
  {
   "cell_type": "code",
   "execution_count": 165,
   "id": "296f29eb",
   "metadata": {},
   "outputs": [],
   "source": [
    "#tokenizamos y codificamos el conjunto de noticias nuevas\n",
    "MAX_LENGHT = 120\n",
    "tokens_unseen = tokenizer.batch_encode_plus(\n",
    "    news_list_df,\n",
    "    max_length = MAX_LENGHT,\n",
    "    pad_to_max_length=True,\n",
    "    truncation=True\n",
    ")\n",
    "\n",
    "#creamos los tensores\n",
    "unseen_seq = torch.tensor(tokens_unseen['input_ids'])\n",
    "unseen_mask = torch.tensor(tokens_unseen['attention_mask'])"
   ]
  },
  {
   "cell_type": "code",
   "execution_count": 166,
   "id": "65751203",
   "metadata": {},
   "outputs": [
    {
     "data": {
      "text/plain": [
       "array([0, 0, 1, 1, 0, 0, 0, 0])"
      ]
     },
     "execution_count": 166,
     "metadata": {},
     "output_type": "execute_result"
    }
   ],
   "source": [
    "#1, 1, 1, 1, 1, 0, 0, 1, 0\n",
    "\n",
    "#realizamos las predicciones\n",
    "with torch.no_grad():\n",
    "    preds = model(unseen_seq, unseen_mask)\n",
    "    preds = preds.detach().cpu().numpy()\n",
    "\n",
    "#imprimimos como un array de 0 y 1 \n",
    "preds = np.argmax(preds, axis = 1)\n",
    "preds"
   ]
  },
  {
   "cell_type": "markdown",
   "id": "527741f2",
   "metadata": {},
   "source": [
    "Análisis de los resultados ver 'Conclusiones'"
   ]
  },
  {
   "cell_type": "code",
   "execution_count": 168,
   "id": "6c424d4c",
   "metadata": {},
   "outputs": [
    {
     "name": "stdout",
     "output_type": "stream",
     "text": [
      "La noticia 0 tiene una probabilidad del 48.09% de ser falsa.\n",
      "La noticia 1 tiene una probabilidad del 46.64% de ser falsa.\n",
      "La noticia 2 tiene una probabilidad del 81.29% de ser falsa.\n",
      "La noticia 3 tiene una probabilidad del 57.17% de ser falsa.\n",
      "La noticia 4 tiene una probabilidad del 7.26% de ser falsa.\n",
      "La noticia 5 tiene una probabilidad del 6.84% de ser falsa.\n",
      "La noticia 6 tiene una probabilidad del 39.48% de ser falsa.\n",
      "La noticia 7 tiene una probabilidad del 45.35% de ser falsa.\n"
     ]
    }
   ],
   "source": [
    "#evaluamos pero obtenemos como resultado un conjunto de probabilidades \n",
    "\n",
    "with torch.no_grad():\n",
    "    preds = model(unseen_seq, unseen_mask)\n",
    "    probs = F.softmax(preds, dim=1)\n",
    "    probs = probs.detach().cpu().numpy()\n",
    "\n",
    "#iteramos para obtener la probabilidad de que sea una noticia falsa\n",
    "for i, prob in enumerate(probs):\n",
    "    probability_fake = prob[1]\n",
    "    print(f\"La noticia {i} tiene una probabilidad del {probability_fake:.2%} de ser falsa.\")"
   ]
  },
  {
   "cell_type": "markdown",
   "id": "31fa21dd",
   "metadata": {},
   "source": [
    "Análisis de los resultados ver 'Conclusiones'"
   ]
  },
  {
   "cell_type": "code",
   "execution_count": 156,
   "id": "3ca351a0",
   "metadata": {},
   "outputs": [
    {
     "name": "stdout",
     "output_type": "stream",
     "text": [
      "La noticia 1 tiene una probabilidad del 93.12% de ser falsa.\n"
     ]
    }
   ],
   "source": [
    "#codifico para poder evaluar el texto de solo una noticia\n",
    "\n",
    "class News:\n",
    "    def __init__(self, text):\n",
    "        self.text = text\n",
    "\n",
    "# Crear instancias de la clase News para cada noticia\n",
    "news1 = News('noticia falsa')\n",
    "\n",
    "news_list = [news1.text] \n",
    "\n",
    "\n",
    "# tokenize and encode sequences in the test set\n",
    "MAX_LENGHT = 120\n",
    "tokens_unseen = tokenizer.batch_encode_plus(\n",
    "    news_list,\n",
    "    max_length = MAX_LENGHT,\n",
    "    pad_to_max_length=True,\n",
    "    truncation=True\n",
    ")\n",
    "\n",
    "unseen_seq = torch.tensor(tokens_unseen['input_ids'])\n",
    "unseen_mask = torch.tensor(tokens_unseen['attention_mask'])\n",
    "\n",
    "\n",
    "with torch.no_grad():\n",
    "    preds = model(unseen_seq, unseen_mask)\n",
    "    probs = F.softmax(preds, dim=1)\n",
    "    probs = probs.detach().cpu().numpy()\n",
    "\n",
    "# Ahora 'probs' contiene las puntuaciones de probabilidad para cada clase\n",
    "for i, prob in enumerate(probs):\n",
    "    # Obtener la probabilidad de la clase 1\n",
    "    probability_fake = prob[1]\n",
    "    \n",
    "    # Imprimir el resultado de manera legible\n",
    "    print(f\"La noticia {i + 1} tiene una probabilidad del {probability_fake:.2%} de ser falsa.\")"
   ]
  },
  {
   "cell_type": "markdown",
   "id": "96082aeb",
   "metadata": {},
   "source": [
    "# 9. Conclusiones"
   ]
  },
  {
   "cell_type": "markdown",
   "id": "9a33fd5a",
   "metadata": {},
   "source": [
    "En los resultados de 0/1 podemos observar que: \n",
    "- El modelo acierta al clasificar las noticias que son evidentemente falsas y las que son evidentemente ciertas (noticias 2 y 3 y noticias 4 y 5)\n",
    "- Las noticias sátiricas (0 y 1) las clasifica como verdaderas\n",
    "- La noticia del chicharrón la clasifica como verdadera siendo falsa\n",
    "- La noticia sobre la OMS la clasifica correctamente como verdadera\n",
    "\n",
    "Los resultados con probabilidades nos dan más información sobre la clasificación: \n",
    "- Las noticias sátiricas las clasifica como verdaderas pero en los dos casos está muy cerca de clasificarlas como falsas. Podría decir que estas noticias cumplen su papel de confundir al modelo de predicción. \n",
    "- Las noticias que son evidentemente falsas tienen un porcentaje muy alto de ser falsas (especialmente la noticia 2) \n",
    "- Las noticias verdaderas (4 y 5) tienen una probabilidad muy alta de ser verdaderas. \n",
    "- La noticia del chicharrón, aunque la califica como verdadera en este modelo tiene más probabilidad de ser falsa (39.48%) que con el modelo de ML (34.27%). \n",
    "- La noticia 7 que es verdadera en este modelo tiene mayor probabilidad de ser falsa (45.35%) que en el modelo ML (17.95%)\n",
    "\n",
    "Sin embargo, con BERT podemos establecer unos criterios claros de clasificación: \n",
    "- Clasifica muy bien las noticias evidentemente falsas y las noticias evidentemente verdaderas. \n",
    "- Las noticias satíricas las califica como verdaderas, pero con una probabilidad alta de ser falsas. \n",
    "- Las noticias sobre salud (la del chicharrón y la de la OMS) las califica como ciertas, pero también tienen una probabilidad alta de ser falsas. "
   ]
  },
  {
   "cell_type": "markdown",
   "id": "eaaabb18",
   "metadata": {},
   "source": [
    "# Nota "
   ]
  },
  {
   "cell_type": "markdown",
   "id": "754c4420",
   "metadata": {},
   "source": [
    "Este trabajo está basado en los siguientes tutoriales: \n",
    " \n",
    "Basic intuition behind Transfer Learning\n",
    "https://www.youtube.com/watch?v=G8mYqxajvFk&t=0s\n",
    "\n",
    "Deep-dive into Google’s BERT Model for NLP\n",
    "https://www.youtube.com/watch?v=mn1dEpvEkX8&t=0s\n",
    "\n",
    "Fake News Detection Project with BERT Fine-tuning\n",
    "https://www.youtube.com/watch?v=LbYF0yMIFaM&t=669s\n",
    "    \n",
    "Modelo implementado en: \n",
    "https://colab.research.google.com/drive/1JT0G0L2xYx_CGQ0d8h1SFuA5yOlJLeYf#scrollTo=LGFpP494zgLh"
   ]
  },
  {
   "cell_type": "code",
   "execution_count": null,
   "id": "9d41ba7a",
   "metadata": {},
   "outputs": [],
   "source": []
  }
 ],
 "metadata": {
  "kernelspec": {
   "display_name": "Python 3 (ipykernel)",
   "language": "python",
   "name": "python3"
  },
  "language_info": {
   "codemirror_mode": {
    "name": "ipython",
    "version": 3
   },
   "file_extension": ".py",
   "mimetype": "text/x-python",
   "name": "python",
   "nbconvert_exporter": "python",
   "pygments_lexer": "ipython3",
   "version": "3.10.9"
  }
 },
 "nbformat": 4,
 "nbformat_minor": 5
}
